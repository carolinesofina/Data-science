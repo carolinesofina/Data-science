{
 "cells": [
  {
   "cell_type": "markdown",
   "metadata": {
    "id": "AVJrB7s8wSPD"
   },
   "source": [
    "**Задача:**\n",
    "\n",
    "Научиться рекомендовать пользователям фильмы на основе факта просмотра фильмов пользователями."
   ]
  },
  {
   "cell_type": "code",
   "execution_count": 1,
   "metadata": {
    "executionInfo": {
     "elapsed": 668,
     "status": "ok",
     "timestamp": 1690740544516,
     "user": {
      "displayName": "Caroline Sofina",
      "userId": "09852236432278737953"
     },
     "user_tz": -180
    },
    "id": "Qc7vFRfywSPQ"
   },
   "outputs": [],
   "source": [
    "import random\n",
    "import re\n",
    "\n",
    "import numpy as np\n",
    "import pandas as pd\n",
    "\n",
    "from sklearn.metrics.pairwise import cosine_distances\n",
    "from sklearn.metrics import roc_auc_score\n",
    "from sklearn.model_selection import train_test_split\n",
    "from scipy.sparse.linalg import svds"
   ]
  },
  {
   "cell_type": "markdown",
   "metadata": {
    "id": "8E6dHkfXwSPS"
   },
   "source": [
    "1. Данные\n",
    "\n",
    "- [Источник](https://grouplens.org/datasets/movielens/)\n",
    "- Используем предобработанные для обучения данные"
   ]
  },
  {
   "cell_type": "code",
   "execution_count": 2,
   "metadata": {
    "executionInfo": {
     "elapsed": 3647,
     "status": "ok",
     "timestamp": 1690740548158,
     "user": {
      "displayName": "Caroline Sofina",
      "userId": "09852236432278737953"
     },
     "user_tz": -180
    },
    "id": "q-pATtG-wSPZ"
   },
   "outputs": [],
   "source": [
    "df = pd.read_csv('https://drive.google.com/uc?id=1203RhVlMiIMNYRRlFNaFHGBJakgvfSsP&confirm=t&uuid=42bf735f-a423-4695-9e03-7412f5fcb692&at=ALt4Tm1C8eZaP2ZAcYBeKVVGjjyb:1690486362470')"
   ]
  },
  {
   "cell_type": "markdown",
   "metadata": {
    "id": "7lHy1SyywzyM"
   },
   "source": [
    "Ознакомимся с данными"
   ]
  },
  {
   "cell_type": "code",
   "execution_count": 3,
   "metadata": {
    "colab": {
     "base_uri": "https://localhost:8080/",
     "height": 206
    },
    "executionInfo": {
     "elapsed": 52,
     "status": "ok",
     "timestamp": 1690740548159,
     "user": {
      "displayName": "Caroline Sofina",
      "userId": "09852236432278737953"
     },
     "user_tz": -180
    },
    "id": "e-fXwNCU1fZf",
    "outputId": "6749e633-ee10-41b2-f560-c5cb7181f6b3"
   },
   "outputs": [
    {
     "data": {
      "text/html": [
       "<div>\n",
       "<style scoped>\n",
       "    .dataframe tbody tr th:only-of-type {\n",
       "        vertical-align: middle;\n",
       "    }\n",
       "\n",
       "    .dataframe tbody tr th {\n",
       "        vertical-align: top;\n",
       "    }\n",
       "\n",
       "    .dataframe thead th {\n",
       "        text-align: right;\n",
       "    }\n",
       "</style>\n",
       "<table border=\"1\" class=\"dataframe\">\n",
       "  <thead>\n",
       "    <tr style=\"text-align: right;\">\n",
       "      <th></th>\n",
       "      <th>userId</th>\n",
       "      <th>movieId</th>\n",
       "      <th>rating</th>\n",
       "      <th>timestamp</th>\n",
       "    </tr>\n",
       "  </thead>\n",
       "  <tbody>\n",
       "    <tr>\n",
       "      <th>0</th>\n",
       "      <td>54</td>\n",
       "      <td>2</td>\n",
       "      <td>3.0</td>\n",
       "      <td>974918176</td>\n",
       "    </tr>\n",
       "    <tr>\n",
       "      <th>1</th>\n",
       "      <td>54</td>\n",
       "      <td>32</td>\n",
       "      <td>5.0</td>\n",
       "      <td>974836809</td>\n",
       "    </tr>\n",
       "    <tr>\n",
       "      <th>2</th>\n",
       "      <td>54</td>\n",
       "      <td>47</td>\n",
       "      <td>4.0</td>\n",
       "      <td>974837760</td>\n",
       "    </tr>\n",
       "    <tr>\n",
       "      <th>3</th>\n",
       "      <td>54</td>\n",
       "      <td>50</td>\n",
       "      <td>4.0</td>\n",
       "      <td>974837760</td>\n",
       "    </tr>\n",
       "    <tr>\n",
       "      <th>4</th>\n",
       "      <td>54</td>\n",
       "      <td>223</td>\n",
       "      <td>5.0</td>\n",
       "      <td>974840217</td>\n",
       "    </tr>\n",
       "  </tbody>\n",
       "</table>\n",
       "</div>"
      ],
      "text/plain": [
       "   userId  movieId  rating  timestamp\n",
       "0      54        2     3.0  974918176\n",
       "1      54       32     5.0  974836809\n",
       "2      54       47     4.0  974837760\n",
       "3      54       50     4.0  974837760\n",
       "4      54      223     5.0  974840217"
      ]
     },
     "execution_count": 3,
     "metadata": {},
     "output_type": "execute_result"
    }
   ],
   "source": [
    "df.head()"
   ]
  },
  {
   "cell_type": "code",
   "execution_count": 4,
   "metadata": {
    "colab": {
     "base_uri": "https://localhost:8080/"
    },
    "executionInfo": {
     "elapsed": 45,
     "status": "ok",
     "timestamp": 1690740548161,
     "user": {
      "displayName": "Caroline Sofina",
      "userId": "09852236432278737953"
     },
     "user_tz": -180
    },
    "id": "9GgUx2Oiv1IX",
    "outputId": "41ecc92d-edd2-49ad-eb6e-7336e327996d"
   },
   "outputs": [
    {
     "name": "stdout",
     "output_type": "stream",
     "text": [
      "<class 'pandas.core.frame.DataFrame'>\n",
      "RangeIndex: 6040099 entries, 0 to 6040098\n",
      "Data columns (total 4 columns):\n",
      " #   Column     Dtype  \n",
      "---  ------     -----  \n",
      " 0   userId     int64  \n",
      " 1   movieId    int64  \n",
      " 2   rating     float64\n",
      " 3   timestamp  int64  \n",
      "dtypes: float64(1), int64(3)\n",
      "memory usage: 184.3 MB\n"
     ]
    }
   ],
   "source": [
    "df.info()"
   ]
  },
  {
   "cell_type": "code",
   "execution_count": 5,
   "metadata": {
    "colab": {
     "base_uri": "https://localhost:8080/"
    },
    "executionInfo": {
     "elapsed": 36,
     "status": "ok",
     "timestamp": 1690740548162,
     "user": {
      "displayName": "Caroline Sofina",
      "userId": "09852236432278737953"
     },
     "user_tz": -180
    },
    "id": "mgxsSE8-xejc",
    "outputId": "6272a821-6cb4-42df-dc00-2fc0553564a5"
   },
   "outputs": [
    {
     "data": {
      "text/plain": [
       "userId       0\n",
       "movieId      0\n",
       "rating       0\n",
       "timestamp    0\n",
       "dtype: int64"
      ]
     },
     "execution_count": 5,
     "metadata": {},
     "output_type": "execute_result"
    }
   ],
   "source": [
    "df.isna().sum()"
   ]
  },
  {
   "cell_type": "markdown",
   "metadata": {
    "id": "BVTDwJ2tpIig"
   },
   "source": [
    "Пропусков в данных нет, типы данных соответствуют содержанию. Для удобства приведем названия столбцов к snake case для удобства."
   ]
  },
  {
   "cell_type": "code",
   "execution_count": 6,
   "metadata": {
    "executionInfo": {
     "elapsed": 29,
     "status": "ok",
     "timestamp": 1690740548164,
     "user": {
      "displayName": "Caroline Sofina",
      "userId": "09852236432278737953"
     },
     "user_tz": -180
    },
    "id": "I7ZzKWe72D8K"
   },
   "outputs": [
    {
     "data": {
      "text/html": [
       "<div>\n",
       "<style scoped>\n",
       "    .dataframe tbody tr th:only-of-type {\n",
       "        vertical-align: middle;\n",
       "    }\n",
       "\n",
       "    .dataframe tbody tr th {\n",
       "        vertical-align: top;\n",
       "    }\n",
       "\n",
       "    .dataframe thead th {\n",
       "        text-align: right;\n",
       "    }\n",
       "</style>\n",
       "<table border=\"1\" class=\"dataframe\">\n",
       "  <thead>\n",
       "    <tr style=\"text-align: right;\">\n",
       "      <th></th>\n",
       "      <th>user_id</th>\n",
       "      <th>movie_id</th>\n",
       "      <th>rating</th>\n",
       "      <th>timestamp</th>\n",
       "    </tr>\n",
       "  </thead>\n",
       "  <tbody>\n",
       "    <tr>\n",
       "      <th>2600149</th>\n",
       "      <td>108317</td>\n",
       "      <td>1288</td>\n",
       "      <td>4.0</td>\n",
       "      <td>942921251</td>\n",
       "    </tr>\n",
       "  </tbody>\n",
       "</table>\n",
       "</div>"
      ],
      "text/plain": [
       "         user_id  movie_id  rating  timestamp\n",
       "2600149   108317      1288     4.0  942921251"
      ]
     },
     "execution_count": 6,
     "metadata": {},
     "output_type": "execute_result"
    }
   ],
   "source": [
    "df.columns = [re.sub('(?=[A-Z])', '_', i).lower() for i in df]\n",
    "df.sample()"
   ]
  },
  {
   "cell_type": "markdown",
   "metadata": {
    "id": "LVEzQqGPeb3K"
   },
   "source": [
    "Посмотрим, сколько уникальных зрителей и фильмов в датасете."
   ]
  },
  {
   "cell_type": "code",
   "execution_count": 7,
   "metadata": {
    "colab": {
     "base_uri": "https://localhost:8080/"
    },
    "executionInfo": {
     "elapsed": 464,
     "status": "ok",
     "timestamp": 1690740548600,
     "user": {
      "displayName": "Caroline Sofina",
      "userId": "09852236432278737953"
     },
     "user_tz": -180
    },
    "id": "8l-veVk0elRM",
    "outputId": "d58035e3-dfc8-4502-df26-8aa827fb9fd2"
   },
   "outputs": [
    {
     "data": {
      "text/plain": [
       "user_id     20000\n",
       "movie_id     1000\n",
       "dtype: int64"
      ]
     },
     "execution_count": 7,
     "metadata": {},
     "output_type": "execute_result"
    }
   ],
   "source": [
    "df[['user_id', 'movie_id']].nunique()"
   ]
  },
  {
   "cell_type": "markdown",
   "metadata": {
    "id": "9gr4QlcWwSPa"
   },
   "source": [
    "2. Предположим, постановка рейтинга — обязательное по итогам просмотра фильмов действие. Основываясь на этом, сгенерируйте новый целевой признак «факт просмотра фильма пользователем», который будет равен 1 для всех пар пользователь * фильм из подгруженного датасета."
   ]
  },
  {
   "cell_type": "code",
   "execution_count": 8,
   "metadata": {
    "executionInfo": {
     "elapsed": 24,
     "status": "ok",
     "timestamp": 1690740548608,
     "user": {
      "displayName": "Caroline Sofina",
      "userId": "09852236432278737953"
     },
     "user_tz": -180
    },
    "id": "LQFU7BIUwSPc"
   },
   "outputs": [
    {
     "data": {
      "text/html": [
       "<div>\n",
       "<style scoped>\n",
       "    .dataframe tbody tr th:only-of-type {\n",
       "        vertical-align: middle;\n",
       "    }\n",
       "\n",
       "    .dataframe tbody tr th {\n",
       "        vertical-align: top;\n",
       "    }\n",
       "\n",
       "    .dataframe thead th {\n",
       "        text-align: right;\n",
       "    }\n",
       "</style>\n",
       "<table border=\"1\" class=\"dataframe\">\n",
       "  <thead>\n",
       "    <tr style=\"text-align: right;\">\n",
       "      <th></th>\n",
       "      <th>user_id</th>\n",
       "      <th>movie_id</th>\n",
       "      <th>rating</th>\n",
       "      <th>timestamp</th>\n",
       "      <th>watched</th>\n",
       "    </tr>\n",
       "  </thead>\n",
       "  <tbody>\n",
       "    <tr>\n",
       "      <th>326963</th>\n",
       "      <td>12975</td>\n",
       "      <td>1673</td>\n",
       "      <td>2.0</td>\n",
       "      <td>920948234</td>\n",
       "      <td>1</td>\n",
       "    </tr>\n",
       "  </tbody>\n",
       "</table>\n",
       "</div>"
      ],
      "text/plain": [
       "        user_id  movie_id  rating  timestamp  watched\n",
       "326963    12975      1673     2.0  920948234        1"
      ]
     },
     "execution_count": 8,
     "metadata": {},
     "output_type": "execute_result"
    }
   ],
   "source": [
    "df['watched'] = 1\n",
    "df.sample()"
   ]
  },
  {
   "cell_type": "markdown",
   "metadata": {
    "id": "o9n1GMAAwSPd"
   },
   "source": [
    "3. А откуда взять «нолики»? В наших данных есть только пары пользователь * фильм, в которых пользователь точно смотрел фильм. Но для обучения модели нужны так называемые «негативы», то есть, пары, где пользователь фильм не смотрел. На практике приходится сталкиваться с необходимостью генерировать их вручную, давайте потренируемся это делать.\n",
    "\n",
    "a. Сначала найдите уникальные id всех пользователей и уникальные id всех фильмов."
   ]
  },
  {
   "cell_type": "code",
   "execution_count": 9,
   "metadata": {
    "colab": {
     "base_uri": "https://localhost:8080/"
    },
    "executionInfo": {
     "elapsed": 76,
     "status": "ok",
     "timestamp": 1690740735350,
     "user": {
      "displayName": "Caroline Sofina",
      "userId": "09852236432278737953"
     },
     "user_tz": -180
    },
    "id": "wTWb6f8LwSPe",
    "outputId": "d415b7df-3bb2-4d64-cd0e-044d7a0a465c",
    "scrolled": true
   },
   "outputs": [
    {
     "data": {
      "text/plain": [
       "array([    2,    32,    47,    50,   223,   260,   296,   318,   337,\n",
       "         367,   541,   589,   593,   924,  1036,  1079,  1089,  1090,\n",
       "        1097,  1136,  1196,  1198,  1200,  1201,  1214,  1215,  1219,\n",
       "        1240,  1246,  1258,  1259,  1278,  1291,  1304,  1321,  1333,\n",
       "        1358,  1370,  1374,  1387,  1584,  1967,  1994,  1997,  2021,\n",
       "        2100,  2174,  2193,  2194,  2288,  2291,  2628,  2683,  2762,\n",
       "        2804,  2872,  2918,  2944,  2947,  2968,  3489,    70,   110,\n",
       "         480,  1210,  1270,  1356,  1544,  1580,  2455,  2791,  2858,\n",
       "        2948,  2951,  3450,     1,   160,   196,   316,   329,   440,\n",
       "         442,   457,   780,   788,   858,   968,  1073,  1077,  1084,\n",
       "        1127,  1129,  1179,  1197,  1213,  1221,  1228,  1230,  1242,\n",
       "        1247,  1272,  1288,  1307,  1345,  1372,  1373,  1375,  1376,\n",
       "        1396,  1653,  1674,  1676,  1779,  1831,  1876,  1909,  1917,\n",
       "        2011,  2012,  2028,  2054,  2105,  2371,  2391,  2407,  2428,\n",
       "        2528,  2529,  2571,  2640,  2694,  2699,  2722,  2797,  2916,\n",
       "        2949,  2985,  3033,  3039,  3072,  5060,     6,    10,   165,\n",
       "         350,   356,   368,   370,   377,   380,   454,   586,   733,\n",
       "          11,    17,   150,   235,   587,   590,   608,   648,   671,\n",
       "         708,   736,   832,  1028,  1042,  1393,    52,   135,   494,\n",
       "         719,    16,   252,   339,   348,   357,   539,   597,   750,\n",
       "        1101,  1265,  1343,  1385,  1391,  1408,  1409,  1466,  1513,\n",
       "        1517,  1573,  1597,  1617,  1777,  1911,  2013,  2067,  2108,\n",
       "        2243,  2396,  2405,  2424,  2427,  2478,  2641,  2671,  2701,\n",
       "        2723,  2770,  2881,  2908,  2987,  3108,  3175,  3176,  3354,\n",
       "        3363,  3448,  3527,  3578,  3671,  3793,  3826,  3827,  3977,\n",
       "          21,    39,   153,   161,   185,   236,   288,   292,   344,\n",
       "         349,   527,   551,   552,   592,  1923,  2605,  2688,  2706,\n",
       "          25,  1204,  2058,  3107,   410,  1320,  1367,  1527,  1591,\n",
       "        1690,  1982,  2124,  2134,  2355,  2378,  2420,  2717,  3113,\n",
       "        3114,  3247,  3697,  3702,  3704,  3863,  3897,     5,    34,\n",
       "          36,    95,   585,   786,   225,   300,   435,   474,   838,\n",
       "        1148,  1207,  1302,  1610,  1947,  1954,  1957,  2094,  2115,\n",
       "        2161,  2324,  2406,  2470,  2501,  2724,  3471,  3751,  2144,\n",
       "        2248,  2997,  3101,  3210,  3608,  3868,  1608,  2002,  2353,\n",
       "        3082,  3256,   186,   830,  1252,  1371,  1641,  1784,  1952,\n",
       "         785,   111,   562,  1203,  1639,  1732,  2005,  2160,  2728,\n",
       "        2795,  2915,  3147,  3361,  3386,  3481,  4002,   303,  1047,\n",
       "        1552,  1587,  1625,  1912,  2001,  2278,  2409,  2410,  2617,\n",
       "        2763,  3006,  3052,  3698,   866,  1722,  1729,  1805,  2006,\n",
       "        2393,    18,   163,   543,  1092,  1120,  1405,  1407,  1479,\n",
       "        1485,  1590,  1680,  1883,  2321,  2336,  2369,  2421,  2707,\n",
       "        2826,  2890,  3005,  3148,  3174,  3253,  3255,  3285,  3301,\n",
       "        3623,    22,  1968,  2352,   204,   272,  1234,  2746,  1347,\n",
       "        2300,  1088,  1717,  3552,  1292,  1267,  1569,  3421,   800,\n",
       "         849,  1091,  1377,  1562,  1663,  2109,  2471,  2616,   994,\n",
       "        1041,  1299,  1953,   306,   379,   748,   799,  1025,  1049,\n",
       "        1186,  1275,  1438,  1499,  1556,  1801,  2003,  2064,  2467,\n",
       "        2581,  2599,  2871,  3087,  3362,  3504,  3683,   151,   253,\n",
       "         653,   919,  1080,  1193,  1208,  1222,  1262,  1266,  1350,\n",
       "        2140,  2542,  2692,  2716,  2959,  3081,  3499,  3996,  4011,\n",
       "        4027,  4128,  4226,  4306,  4571,  4720,  4896,  4993,  5679,\n",
       "        5816,  5952,  6333,  6539,  6807,  7153,  7438,  8368,  8636,\n",
       "        8961,     3,    62,   266,  1673,  1748,  3703,  3753,    24,\n",
       "         173,   904,   953,  1094,  1103,  1188,  1206,  1220,  1225,\n",
       "        1257,  1276,  1721,  2018,  2046,  2150,  2329,  2657,  2710,\n",
       "        2788,    19,   420,   520,   594,   596,   104,   141,   364,\n",
       "         376,   475,   500,   508,   720,  1035,     7,   802,   355,\n",
       "         362,   553,   852,   899,   914,  1183,  1357,  1682,  3408,\n",
       "        3911,  3994,  4308,  4370,  4874,  4963,  4995,    48,   168,\n",
       "         172,   208,   231,   353,   372,   434,  4022,  4034,   969,\n",
       "        1250,  1960,   145,   256,   784,  1029,  1032,  1274,  1339,\n",
       "        1961,  2023,  2232,  2294,  2572,  3300,  3396,  4246,  4973,\n",
       "        5349,  5377,  5378,  5445,  5502,  5669,  6365,  6377,  6537,\n",
       "        6711,  6863,  6874,  6934,  7254,  7361,  7458,  8622, 30793,\n",
       "       30812, 33493, 41566,   317,   432,   468,   497,   745,   902,\n",
       "         910,  1022,  1269,  1282,  2078,  2087,  3916,  4886,  5218,\n",
       "        8360,  8970,   916,  1285,  1380,  4321,  3967,  6942, 30749,\n",
       "       40815,   724,   778,  1263,  1704,  2395,  3160,  4016,  1378,\n",
       "        2000,  2490,  4025,   342,  1059,  2167,  1645,  2302,  2502,\n",
       "        2580,  2700,  2712,  3948,  4223,  4776,  5418,  5464,  5630,\n",
       "         261,  3949,  4979,   273,  1172,  5010,  5064,   237,   333,\n",
       "         466,   485,  6218, 33004,    45,   345,  1223,  5902,  5991,\n",
       "        7143,  8665, 30810, 32587,  1747,   903,  2019,  7147,  8784,\n",
       "        1298,  6947,  2116,  3257,  3317,  4901,  8949,  8874,  5995,\n",
       "        5989,  1907,   112,   293,  4446,  4878,  6502,  3555,   610,\n",
       "        1037,  1882,  2366,  2541,    60,   491,   529,   588,   595,\n",
       "         628,   743,   762,   276,   880,  1020,  1256,  2080,  2081,\n",
       "        2403,  3717,  3988,  4018,  4270,  4310,  4638,  4643,  4848,\n",
       "        3785,  4148,  4369,   158,   441,   546,   616,   673,  2313,\n",
       "        3535,  3745,  3752,  3969,  4262,  4299,  4718,  5266,  5459,\n",
       "        6281,  8361,  8641,  8644, 33679, 33794, 34048, 35836,   315,\n",
       "         783,  2394,  3809,  8376,  8529,  8984,  4085,  3755,   383,\n",
       "        4447,   661,  1884,   319,  1918,  2268,  3020,  4367,   216,\n",
       "         524,   647,   805,  1061,  1476,  1586,  2231,  2273,  2431,\n",
       "        2539,  3254,  3409,  3617,  3624,  4701,   532,  1027,    44,\n",
       "         382,   413,  2096,  4734,  4816,  7373,  8464,  8528,  8957,\n",
       "        3263,   107,  1644,  7090,  8798, 40819,  2423,   180,  5481,\n",
       "        5956,  6373,   193,   327,  2953,  5872,  4344,  3275,  6188,\n",
       "        2335,  1249,   908,  1199,  2076,   282,   515,   912,  4361,\n",
       "        1093,  5299,   471,  1962,  1233,   923,   555,  3252,  3418,\n",
       "        4014,    58,   194,   230,   307,  1175,  4975,  2761,  5618,\n",
       "       45499, 45722, 46578, 54001, 59315,  2687,  2085, 69122, 54503,\n",
       "       48385, 52973, 56367, 68954, 71535, 72998, 73017,  3556, 49272,\n",
       "       79132,  5673, 78499, 80463, 81591, 68157, 69757,   431,   224,\n",
       "         509,  1441,  3798,   170,  6378,  7293, 48516, 53125, 56174,\n",
       "       60069,  4239,  5810,    31, 63082,   455, 47610, 54272, 44665,\n",
       "        2145,  3105, 34162,  1100,  3060,    29,  4105,  1965,  1060,\n",
       "        1921,  1271,  1449,   277,  1394,  1500,  1958,  1245,  1411,\n",
       "        2020,   232,  1589,   247,  1635,  2686,  5388,  6870,  4641,\n",
       "        5945,   922,  4019,  2739,  3273,  5013,  1235,   140,   105,\n",
       "        1253,  3510,   207,  2600,  2010,   915,  2289,    79,   637,\n",
       "        1945,   198,   481,  1019,   222,   913,  1231,  1287,  2359,\n",
       "        1185,  1244,  1104,  3168,  2485,   909,  5015,  1284,  5903,\n",
       "        6016, 33166,   246, 70286,  3104,   215,  4855, 68358,  1254,\n",
       "        3100,   265,  1293,  1125,   837,  1261,  3000,   920,  2125,\n",
       "         741, 41569, 44191, 48394, 50872, 51662, 53996, 58559, 60684,\n",
       "       46976, 39183,   203, 44195, 49530, 54286, 45447, 51255, 48780,\n",
       "       74458,  6953,  5971, 31658, 48774, 55820, 38061, 34405,   531,\n",
       "        1095,   898,   954,    14,   535,   162,   280,   538,  2384,\n",
       "        4235,  2340,  1212,  2137,  3424, 36529, 44199, 64614, 44555,\n",
       "       27773, 56782,   308, 81845,  8950, 55765,  2186,  1086, 30707,\n",
       "        1296], dtype=int64)"
      ]
     },
     "execution_count": 9,
     "metadata": {},
     "output_type": "execute_result"
    }
   ],
   "source": [
    "movies_values = df.movie_id.unique()\n",
    "movies_values"
   ]
  },
  {
   "cell_type": "code",
   "execution_count": 10,
   "metadata": {
    "colab": {
     "base_uri": "https://localhost:8080/"
    },
    "executionInfo": {
     "elapsed": 73,
     "status": "ok",
     "timestamp": 1690740735354,
     "user": {
      "displayName": "Caroline Sofina",
      "userId": "09852236432278737953"
     },
     "user_tz": -180
    },
    "id": "bUXBUtyQNm-u",
    "outputId": "35527ee2-7aaf-49a3-d558-f529c477b88d"
   },
   "outputs": [
    {
     "data": {
      "text/plain": [
       "array([    54,     91,    116, ..., 112242,  53853,  42229], dtype=int64)"
      ]
     },
     "execution_count": 10,
     "metadata": {},
     "output_type": "execute_result"
    }
   ],
   "source": [
    "users_values = df.user_id.unique()\n",
    "users_values"
   ]
  },
  {
   "cell_type": "markdown",
   "metadata": {
    "id": "zf26kQS8wSPf"
   },
   "source": [
    "b. С помощью функции random.choice [(документация)](https://numpy.org/doc/stable/reference/random/generated/numpy.random.choice.html) сгенерируйте случайные пары пользователь * фильм"
   ]
  },
  {
   "cell_type": "markdown",
   "metadata": {
    "id": "p7NXnjjPwSPh"
   },
   "source": [
    "c. Поскольку среди сгенерированных пар могут быть и такие, что пользователь в них уже смотрел фильм, сгенерируйте побольше пар, например, удвоенное количество строк из источника. Это может занять пару минут."
   ]
  },
  {
   "cell_type": "code",
   "execution_count": 11,
   "metadata": {
    "id": "yciOVqSuAJ-l"
   },
   "outputs": [],
   "source": [
    "# создаем пустой список для новых пар\n",
    "new_pairs = []\n",
    "\n",
    "# создаем в два раза больше пар, чем в исходном датасете\n",
    "for i in range(df.shape[0] * 2):\n",
    "    pair = (np.random.choice(users_values),\n",
    "            np.random.choice(movies_values),\n",
    "           )\n",
    "    new_pairs.append(pair)"
   ]
  },
  {
   "cell_type": "markdown",
   "metadata": {
    "id": "3JjC7fq5wSPi"
   },
   "source": [
    "d. Среди сгенерированных пар могут быть и дубликаты, удалите их."
   ]
  },
  {
   "cell_type": "code",
   "execution_count": 12,
   "metadata": {
    "executionInfo": {
     "elapsed": 62,
     "status": "aborted",
     "timestamp": 1690740735358,
     "user": {
      "displayName": "Caroline Sofina",
      "userId": "09852236432278737953"
     },
     "user_tz": -180
    },
    "id": "SqLtyWLGwSPj"
   },
   "outputs": [],
   "source": [
    "# в множестве хранятся только уникальные элементы,\n",
    "# преобразуем список в множество\n",
    "new_pairs = set(new_pairs)"
   ]
  },
  {
   "cell_type": "markdown",
   "metadata": {
    "id": "hxJjnDCUwSPk"
   },
   "source": [
    "e. Оставьте среди сгенерированных пар только те, в которых пользователь фильм не смотрел.\n"
   ]
  },
  {
   "cell_type": "code",
   "execution_count": 13,
   "metadata": {},
   "outputs": [],
   "source": [
    "# создаем множество пар значений из исходных данных\n",
    "old_pairs = set(zip(df['user_id'].values, df['movie_id'].values))"
   ]
  },
  {
   "cell_type": "code",
   "execution_count": 14,
   "metadata": {
    "scrolled": true
   },
   "outputs": [],
   "source": [
    "# вычитаем из нового множества те значения, которые были в первом датасете\n",
    "pairs = new_pairs - old_pairs"
   ]
  },
  {
   "cell_type": "markdown",
   "metadata": {
    "id": "8ehMHZcvwSPl"
   },
   "source": [
    "f. Возможно, пар получилось больше, чем нужно, выберите из них столько, сколько у нас строк в исходных данных."
   ]
  },
  {
   "cell_type": "code",
   "execution_count": 15,
   "metadata": {},
   "outputs": [
    {
     "data": {
      "text/plain": [
       "True"
      ]
     },
     "execution_count": 15,
     "metadata": {},
     "output_type": "execute_result"
    }
   ],
   "source": [
    "len(pairs) > df.shape[0]"
   ]
  },
  {
   "cell_type": "code",
   "execution_count": 16,
   "metadata": {
    "executionInfo": {
     "elapsed": 72,
     "status": "aborted",
     "timestamp": 1690740735369,
     "user": {
      "displayName": "Caroline Sofina",
      "userId": "09852236432278737953"
     },
     "user_tz": -180
    },
    "id": "hgO5sbulwSPm"
   },
   "outputs": [],
   "source": [
    "pairs = pd.DataFrame(random.sample(sorted(pairs), df.shape[0]))\n",
    "pairs.columns = ['user_id', 'movie_id']"
   ]
  },
  {
   "cell_type": "markdown",
   "metadata": {
    "id": "9BceB-3HwSPm"
   },
   "source": [
    "g. Добавьте очищенные сгенерированные пары к исходным данным. Значение целевого признака в них будет равно нулю. Убедитесь, что у вас не появились дубликаты в датасете."
   ]
  },
  {
   "cell_type": "code",
   "execution_count": 17,
   "metadata": {
    "executionInfo": {
     "elapsed": 74,
     "status": "aborted",
     "timestamp": 1690740735371,
     "user": {
      "displayName": "Caroline Sofina",
      "userId": "09852236432278737953"
     },
     "user_tz": -180
    },
    "id": "ALxX_3VkwSPn"
   },
   "outputs": [],
   "source": [
    "df = pd.concat([df, pairs], ignore_index=True)"
   ]
  },
  {
   "cell_type": "code",
   "execution_count": 18,
   "metadata": {},
   "outputs": [],
   "source": [
    "df.fillna(0, inplace=True)"
   ]
  },
  {
   "cell_type": "code",
   "execution_count": 19,
   "metadata": {},
   "outputs": [
    {
     "data": {
      "text/plain": [
       "0"
      ]
     },
     "execution_count": 19,
     "metadata": {},
     "output_type": "execute_result"
    }
   ],
   "source": [
    "df[['user_id', 'movie_id']].duplicated().sum()"
   ]
  },
  {
   "cell_type": "markdown",
   "metadata": {
    "id": "xNatZRGEwSPo"
   },
   "source": [
    "\n",
    "4. Подготовьте датасет к обучению: отделите тестовую часть от тренировочной."
   ]
  },
  {
   "cell_type": "markdown",
   "metadata": {},
   "source": [
    "Отмасштабируем идентификаторы фильмов и пользователей таким образом, чтобы в дальнейшем находить их по индексу матрицы."
   ]
  },
  {
   "cell_type": "code",
   "execution_count": 20,
   "metadata": {},
   "outputs": [],
   "source": [
    "df.user_id = df.user_id.apply(lambda f: np.where(users_values == f)[0][0])"
   ]
  },
  {
   "cell_type": "code",
   "execution_count": 21,
   "metadata": {},
   "outputs": [],
   "source": [
    "df.movie_id = df.movie_id.apply(lambda f: np.where(movies_values == f)[0][0])"
   ]
  },
  {
   "cell_type": "code",
   "execution_count": 22,
   "metadata": {
    "executionInfo": {
     "elapsed": 68,
     "status": "aborted",
     "timestamp": 1690740735373,
     "user": {
      "displayName": "Caroline Sofina",
      "userId": "09852236432278737953"
     },
     "user_tz": -180
    },
    "id": "55wvYizIwSPo"
   },
   "outputs": [],
   "source": [
    "train, test = train_test_split(df, test_size=0.01, random_state=5)"
   ]
  },
  {
   "cell_type": "markdown",
   "metadata": {},
   "source": [
    "Проверим, что в тренировочный датасет попали все пользователи и фильмы"
   ]
  },
  {
   "cell_type": "code",
   "execution_count": 23,
   "metadata": {},
   "outputs": [
    {
     "data": {
      "text/plain": [
       "user_id     20000\n",
       "movie_id     1000\n",
       "dtype: int64"
      ]
     },
     "execution_count": 23,
     "metadata": {},
     "output_type": "execute_result"
    }
   ],
   "source": [
    "train[['user_id', 'movie_id']].nunique()"
   ]
  },
  {
   "cell_type": "markdown",
   "metadata": {
    "id": "GgW2EfsCwSPp"
   },
   "source": [
    "5. Обучите dummy-model. Пусть она будет возвращать случайную вероятность принадлежности классу 1. Для этого можете использовать функцию random.random [(документация)](https://numpy.org/doc/stable/reference/random/generated/numpy.random.random.html). Оцените ее качество какой-то метрикой на свой вкус. Необходимо прогнозировать именно вероятность, чтобы была возможность ранжировать по ней варианты для рекомендации лучшего контента пользователю."
   ]
  },
  {
   "cell_type": "code",
   "execution_count": 24,
   "metadata": {
    "executionInfo": {
     "elapsed": 68,
     "status": "aborted",
     "timestamp": 1690740735374,
     "user": {
      "displayName": "Caroline Sofina",
      "userId": "09852236432278737953"
     },
     "user_tz": -180
    },
    "id": "WOczTzoawSPq"
   },
   "outputs": [],
   "source": [
    "def dummy_model(features):\n",
    "    predictions = []\n",
    "    for i in range(features.shape[0]):\n",
    "        predictions.append(random.random())\n",
    "\n",
    "    return predictions"
   ]
  },
  {
   "cell_type": "code",
   "execution_count": 25,
   "metadata": {},
   "outputs": [
    {
     "name": "stdout",
     "output_type": "stream",
     "text": [
      "Roc_auc dummy-модели: 0.5\n"
     ]
    }
   ],
   "source": [
    "dummy_prediction = dummy_model(test)\n",
    "roc_auc_dummy = round(roc_auc_score(test.watched, dummy_prediction), 2)\n",
    "print(f'Roc_auc dummy-модели: {roc_auc_dummy}')"
   ]
  },
  {
   "cell_type": "markdown",
   "metadata": {
    "id": "O_-fFo2PwSPq"
   },
   "source": [
    "6. Реализуйте три алгоритма коллаборативной фильтрации: user-, item-based и алгоритм на основе матричной факторизации. Оцените их качество и адекватность. Если качество недостаточно хорошее, попробуйте варьировать параметры: количество похожих пользователей/фильмов, количество элементов в матрицах при матричном разложении."
   ]
  },
  {
   "cell_type": "markdown",
   "metadata": {},
   "source": [
    "Сформируем матрицу user-item. По умолчанию заполним ее нулями."
   ]
  },
  {
   "cell_type": "code",
   "execution_count": 26,
   "metadata": {},
   "outputs": [],
   "source": [
    "train_matrix = np.zeros((train.user_id.nunique(), train.movie_id.nunique()))\n",
    "for line in train.to_dict(orient='records'):\n",
    "    train_matrix[line['user_id'], line['movie_id']] = line['watched']"
   ]
  },
  {
   "cell_type": "markdown",
   "metadata": {},
   "source": [
    "Сформируем матрицы попарных косинусных расстояний"
   ]
  },
  {
   "cell_type": "code",
   "execution_count": 27,
   "metadata": {},
   "outputs": [],
   "source": [
    "user_similarity = cosine_distances(train_matrix)\n",
    "movie_similarity = cosine_distances(train_matrix.T)"
   ]
  },
  {
   "cell_type": "markdown",
   "metadata": {},
   "source": [
    "Реализуем user-based алгоритм, перебрав несколько параметров - количество похожих пользователей, по которым делается предсказание. Предсказывать будем вероятность просмотра, а не факт - поэтому результаты предсказаний здесь и далее не будут округляться до 0 и 1. Для оценки алгоритмов будет использоваться метрика roc_auc."
   ]
  },
  {
   "cell_type": "code",
   "execution_count": 28,
   "metadata": {},
   "outputs": [
    {
     "name": "stdout",
     "output_type": "stream",
     "text": [
      "Roc_auc user-based алгоритма (10 похожих пользователей): 0.8571\n",
      "Roc_auc user-based алгоритма (20 похожих пользователей): 0.8654\n",
      "Roc_auc user-based алгоритма (35 похожих пользователей): 0.8676\n",
      "Roc_auc user-based алгоритма (50 похожих пользователей): 0.8678\n"
     ]
    }
   ],
   "source": [
    "param = [10, 20, 35, 50]\n",
    "\n",
    "for top in param:\n",
    "    top_similar_users = []\n",
    "    for i in range(train.user_id.nunique()):\n",
    "        neighbors = (user_similarity[i]).argsort()[1:top + 1]\n",
    "        top_similar_users.append(train_matrix[neighbors])\n",
    "\n",
    "    top_similar_users = np.array(top_similar_users)\n",
    "    predicted_user_based = top_similar_users.mean(1)\n",
    "\n",
    "    test[f'predict_user_based_{top}'] = test.apply(\n",
    "        lambda f: predicted_user_based[int(f['user_id']),\n",
    "                                       int(f['movie_id'])], axis = 1)\n",
    "    \n",
    "    roc_auc_user_based = round(roc_auc_score(test['watched'],\n",
    "                                             test[f'predict_user_based_{top}']),\n",
    "                                             4)\n",
    "    print(f'Roc_auc user-based алгоритма ({top} похожих пользователей): {roc_auc_user_based}')"
   ]
  },
  {
   "cell_type": "markdown",
   "metadata": {},
   "source": [
    "Как видно, все 4 алгоритма адекватны (метрика roc_auc выше, чем у dummy-модели со значением 0.5), лучший вариант алгоритма - при сравнении 50 похожих пользователей. Так как прирост метрики при изменении параметра с 35 до 50 пользователей невелик, остановимся на алгоритме, основанном на сравнении 50-ти ближайших пользователей со значением метрики roc_auc 0.8692."
   ]
  },
  {
   "cell_type": "markdown",
   "metadata": {},
   "source": [
    "Теперь реализуем item-based алгоритм, перебрав несколько параметров - количество похожих фильмов, по которым делается предсказание"
   ]
  },
  {
   "cell_type": "code",
   "execution_count": 34,
   "metadata": {},
   "outputs": [
    {
     "name": "stdout",
     "output_type": "stream",
     "text": [
      "Roc_auc item-based алгоритма (5 похожих фильмов): 0.8294\n",
      "Roc_auc item-based алгоритма (10 похожих фильмов): 0.8413\n",
      "Roc_auc item-based алгоритма (25 похожих фильмов): 0.8401\n"
     ]
    }
   ],
   "source": [
    "param = [5, 10, 25]\n",
    "\n",
    "for top in param:\n",
    "    top_similar_movies = []\n",
    "    for i in range(train.movie_id.nunique()):\n",
    "        neighbors = (movie_similarity[i]).argsort()[1:top + 1]\n",
    "        top_similar_movies.append(train_matrix.T[neighbors])\n",
    "\n",
    "    top_similar_movies = np.array(top_similar_movies).T\n",
    "    predicted_item_based = top_similar_movies.mean(1)\n",
    "\n",
    "    test[f'predict_item_based_{top}'] = test.apply(\n",
    "        lambda f: predicted_item_based[int(f['user_id']),\n",
    "                                       int(f['movie_id'])], axis = 1)\n",
    "    \n",
    "    roc_auc_item_based = round(roc_auc_score(test['watched'],\n",
    "                                             test[f'predict_item_based_{top}']),\n",
    "                                             4)\n",
    "    print(f'Roc_auc item-based алгоритма ({top} похожих фильмов): {roc_auc_item_based}')"
   ]
  },
  {
   "cell_type": "markdown",
   "metadata": {},
   "source": [
    "Все 3 item-based алгоритма адекватны (метрика roc_auc выше, чем у dummy-модели со значением 0.5), лучший вариант алгоритма - при сравнении 10 похожих фильмов, но качество все же чуть хуже, чем качество user-based алгоритма (0.8427 против 0.8692 у user-based)"
   ]
  },
  {
   "cell_type": "markdown",
   "metadata": {},
   "source": [
    "Теперь реализуем алгоритм на основе матричного разложения"
   ]
  },
  {
   "cell_type": "code",
   "execution_count": 30,
   "metadata": {},
   "outputs": [],
   "source": [
    "u, s, vh = svds(train_matrix, k=20)\n",
    "s_diag_matrix = np.diag(s)\n",
    "\n",
    "users = np.dot(u, s_diag_matrix)\n",
    "items = vh.T"
   ]
  },
  {
   "cell_type": "code",
   "execution_count": 35,
   "metadata": {},
   "outputs": [
    {
     "name": "stdout",
     "output_type": "stream",
     "text": [
      "Roc_auc алгоритма на основе матричного разложения: (10 элементов в матрицах): 0.8735\n",
      "Roc_auc алгоритма на основе матричного разложения: (20 элементов в матрицах): 0.8901\n",
      "Roc_auc алгоритма на основе матричного разложения: (30 элементов в матрицах): 0.8953\n",
      "Roc_auc алгоритма на основе матричного разложения: (40 элементов в матрицах): 0.8977\n"
     ]
    }
   ],
   "source": [
    "param = [10, 20, 30, 40]\n",
    "\n",
    "for elements in param:\n",
    "    u, s, vh = svds(train_matrix, k=elements)\n",
    "    s_diag_matrix = np.diag(s)\n",
    "\n",
    "    users = np.dot(u, s_diag_matrix)\n",
    "    items = vh.T\n",
    "\n",
    "    test[f'svd_predictions_{elements}'] = test.apply(\n",
    "        lambda f: np.dot(users[int(f['user_id'])], items[int(f['movie_id'])]),\n",
    "        axis = 1)\n",
    "\n",
    "    roc_auc_svd = round(roc_auc_score(test['watched'],\n",
    "                        test[f'svd_predictions_{elements}']),\n",
    "                        4)\n",
    "\n",
    "    print(f'Roc_auc алгоритма на основе матричного разложения: ({elements} элементов в матрицах): {roc_auc_svd}')"
   ]
  },
  {
   "cell_type": "markdown",
   "metadata": {},
   "source": [
    "Лучшее значение метрики roc_auc у алгоритма на основе матричного разложения составило 0.8977 при 40 элементах в матрице."
   ]
  },
  {
   "cell_type": "markdown",
   "metadata": {
    "id": "XBc-aNPZwSPr"
   },
   "source": [
    "7. Опишите вывод, содержащий информацию о том, какой алгоритм проявил себя лучше всего."
   ]
  },
  {
   "cell_type": "markdown",
   "metadata": {},
   "source": [
    "Алгоритм на основе матричного разложения проявил себя лучше всего - значение метрики roc_auc у него самое высокое из трех реализованных алгоритмов, 0.8977 при 40 элментах в матрице. При этом этот алгоритм самый быстрый как с точки зрения выполнения кода, так и с точки зрения его написания.\n",
    "\n",
    "Лучший результат user-based агоритма - 0.8692 при предсказании на основе 50 ближайших пользователей, а для item-based - 0.8427 при предсказании на основе 10 ближайших фильмов."
   ]
  }
 ],
 "metadata": {
  "colab": {
   "provenance": []
  },
  "kernelspec": {
   "display_name": "Python 3 (ipykernel)",
   "language": "python",
   "name": "python3"
  },
  "language_info": {
   "codemirror_mode": {
    "name": "ipython",
    "version": 3
   },
   "file_extension": ".py",
   "mimetype": "text/x-python",
   "name": "python",
   "nbconvert_exporter": "python",
   "pygments_lexer": "ipython3",
   "version": "3.11.0"
  }
 },
 "nbformat": 4,
 "nbformat_minor": 4
}
